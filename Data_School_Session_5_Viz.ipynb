{
 "cells": [
  {
   "cell_type": "markdown",
   "metadata": {},
   "source": [
    "# Data School Visualization Notebook"
   ]
  },
  {
   "cell_type": "markdown",
   "metadata": {},
   "source": [
    "The purpose of this notebook is to illustrate different data visualization techniques using python"
   ]
  },
  {
   "cell_type": "code",
   "execution_count": 1,
   "metadata": {},
   "outputs": [],
   "source": [
    "#Things to import\n",
    "import pandas as pd\n",
    "import matplotlib.pyplot as plt\n",
    "%matplotlib inline\n",
    "\n",
    "#pip install folium\n",
    "import folium\n",
    "import folium.plugins as plugins\n",
    "\n",
    "pd.set_option('display.max_rows', 500)\n",
    "pd.set_option('display.max_columns', 500)"
   ]
  },
  {
   "cell_type": "markdown",
   "metadata": {},
   "source": [
    "## Python Data Structures"
   ]
  },
  {
   "cell_type": "markdown",
   "metadata": {},
   "source": [
    "There are a few ways python can store information. We are going to talk about 2 of them for data viz."
   ]
  },
  {
   "cell_type": "markdown",
   "metadata": {},
   "source": [
    "### Lists"
   ]
  },
  {
   "cell_type": "markdown",
   "metadata": {},
   "source": [
    "- Lists are a built in python data structure. \n",
    "- They can store different values.\n",
    "- Square Brackets [ ]"
   ]
  },
  {
   "cell_type": "code",
   "execution_count": 4,
   "metadata": {},
   "outputs": [],
   "source": [
    "l1 = [1, 2, 3, 4]"
   ]
  },
  {
   "cell_type": "code",
   "execution_count": 12,
   "metadata": {},
   "outputs": [],
   "source": [
    "l1"
   ]
  },
  {
   "cell_type": "code",
   "execution_count": 19,
   "metadata": {},
   "outputs": [],
   "source": [
    "l2 = ['hi','I','me','your']"
   ]
  },
  {
   "cell_type": "code",
   "execution_count": 13,
   "metadata": {},
   "outputs": [],
   "source": [
    "l2"
   ]
  },
  {
   "cell_type": "code",
   "execution_count": 8,
   "metadata": {},
   "outputs": [],
   "source": [
    "l3 = ['hi',1,3]"
   ]
  },
  {
   "cell_type": "code",
   "execution_count": 14,
   "metadata": {},
   "outputs": [],
   "source": [
    "l3"
   ]
  },
  {
   "cell_type": "code",
   "execution_count": 15,
   "metadata": {},
   "outputs": [],
   "source": [
    "sorted(l2)"
   ]
  },
  {
   "cell_type": "code",
   "execution_count": 16,
   "metadata": {},
   "outputs": [],
   "source": [
    "sorted(l3)"
   ]
  },
  {
   "cell_type": "markdown",
   "metadata": {},
   "source": [
    "### Pandas Series and Dataframe"
   ]
  },
  {
   "cell_type": "markdown",
   "metadata": {},
   "source": [
    "- A more efficient way to store information and perform calculations\n",
    "- Uses numpy arrays (a 3rd form of data structure) under the hood\n",
    "- A Series contains an index column and a values column\n",
    "- A Dataframe is a collection of Series\n",
    "- Can create from another python data structure OR read from file"
   ]
  },
  {
   "cell_type": "code",
   "execution_count": 25,
   "metadata": {},
   "outputs": [],
   "source": [
    "#Use the lists from above\n",
    "pd.DataFrame(l2, index=l1, columns=['word'])"
   ]
  },
  {
   "cell_type": "code",
   "execution_count": 102,
   "metadata": {},
   "outputs": [],
   "source": [
    "#Create a dataframe from a csv file\n",
    "df_water = pd.read_csv('viz_csvs/Water_Consumption_In_The_New_York_City.csv')"
   ]
  },
  {
   "cell_type": "code",
   "execution_count": 104,
   "metadata": {},
   "outputs": [],
   "source": [
    "df_water"
   ]
  },
  {
   "cell_type": "markdown",
   "metadata": {},
   "source": [
    "## Line/Scatter Plot"
   ]
  },
  {
   "cell_type": "markdown",
   "metadata": {},
   "source": [
    "Give plt.plot x-values and y-values, example with lists"
   ]
  },
  {
   "cell_type": "code",
   "execution_count": 99,
   "metadata": {},
   "outputs": [
    {
     "data": {
      "image/png": "[encoded data removed]",
      "text/plain": [
       "<Figure size 432x288 with 1 Axes>"
      ]
     },
     "metadata": {
      "needs_background": "light"
     },
     "output_type": "display_data"
    }
   ],
   "source": [
    "plt.plot([1,2,3,7],[5,6,7,8]);"
   ]
  },
  {
   "cell_type": "markdown",
   "metadata": {},
   "source": [
    "Example using dataframes"
   ]
  },
  {
   "cell_type": "code",
   "execution_count": 3,
   "metadata": {},
   "outputs": [],
   "source": [
    "df_water = pd.read_csv('viz_csvs/Water_Consumption_In_The_New_York_City.csv')"
   ]
  },
  {
   "cell_type": "code",
   "execution_count": 33,
   "metadata": {},
   "outputs": [],
   "source": [
    "df_water.head()"
   ]
  },
  {
   "cell_type": "code",
   "execution_count": 34,
   "metadata": {},
   "outputs": [],
   "source": [
    "df_water.info()"
   ]
  },
  {
   "cell_type": "code",
   "execution_count": 35,
   "metadata": {},
   "outputs": [],
   "source": [
    "plt.plot(df_water['Year'],df_water['NYC Consumption(Million gallons per day)']);\n"
   ]
  },
  {
   "cell_type": "code",
   "execution_count": 36,
   "metadata": {},
   "outputs": [],
   "source": [
    "plt.scatter(df_water['NYC Consumption(Million gallons per day)'],df_water['New York City Population']);\n",
    "plt.title(\"Water Consumption in NYC\");\n",
    "plt.ylabel(\"Population\");\n",
    "plt.xlabel('Million gallons per day');"
   ]
  },
  {
   "cell_type": "markdown",
   "metadata": {},
   "source": [
    "## Bar Chart"
   ]
  },
  {
   "cell_type": "code",
   "execution_count": 38,
   "metadata": {},
   "outputs": [],
   "source": [
    "df_rest = pd.read_csv('viz_csvs/BK_Rest_Inspections.csv')"
   ]
  },
  {
   "cell_type": "code",
   "execution_count": 39,
   "metadata": {},
   "outputs": [
    {
     "data": {
      "text/html": [
       "<div>\n",
       "<style scoped>\n",
       "    .dataframe tbody tr th:only-of-type {\n",
       "        vertical-align: middle;\n",
       "    }\n",
       "\n",
       "    .dataframe tbody tr th {\n",
       "        vertical-align: top;\n",
       "    }\n",
       "\n",
       "    .dataframe thead th {\n",
       "        text-align: right;\n",
       "    }\n",
       "</style>\n",
       "<table border=\"1\" class=\"dataframe\">\n",
       "  <thead>\n",
       "    <tr style=\"text-align: right;\">\n",
       "      <th></th>\n",
       "      <th>CAMIS</th>\n",
       "      <th>DBA</th>\n",
       "      <th>BORO</th>\n",
       "      <th>BUILDING</th>\n",
       "      <th>STREET</th>\n",
       "      <th>ZIPCODE</th>\n",
       "      <th>PHONE</th>\n",
       "      <th>CUISINE DESCRIPTION</th>\n",
       "      <th>INSPECTION DATE</th>\n",
       "      <th>ACTION</th>\n",
       "      <th>VIOLATION CODE</th>\n",
       "      <th>VIOLATION DESCRIPTION</th>\n",
       "      <th>CRITICAL FLAG</th>\n",
       "      <th>SCORE</th>\n",
       "      <th>GRADE</th>\n",
       "      <th>GRADE DATE</th>\n",
       "      <th>RECORD DATE</th>\n",
       "      <th>INSPECTION TYPE</th>\n",
       "    </tr>\n",
       "  </thead>\n",
       "  <tbody>\n",
       "    <tr>\n",
       "      <th>0</th>\n",
       "      <td>41401773</td>\n",
       "      <td>DUNKIN' DONUTS</td>\n",
       "      <td>BROOKLYN</td>\n",
       "      <td>721</td>\n",
       "      <td>FLATBUSH AVENUE</td>\n",
       "      <td>11226.0</td>\n",
       "      <td>7189406864</td>\n",
       "      <td>Donuts</td>\n",
       "      <td>08/19/2016</td>\n",
       "      <td>Violations were cited in the following area(s).</td>\n",
       "      <td>08A</td>\n",
       "      <td>Facility not vermin proof. Harborage or condit...</td>\n",
       "      <td>Not Critical</td>\n",
       "      <td>11.0</td>\n",
       "      <td>A</td>\n",
       "      <td>08/19/2016</td>\n",
       "      <td>03/24/2019</td>\n",
       "      <td>Cycle Inspection / Initial Inspection</td>\n",
       "    </tr>\n",
       "    <tr>\n",
       "      <th>1</th>\n",
       "      <td>41474967</td>\n",
       "      <td>TAQUERIA LA PLACITA PUEBLA</td>\n",
       "      <td>BROOKLYN</td>\n",
       "      <td>830</td>\n",
       "      <td>BROADWAY</td>\n",
       "      <td>11206.0</td>\n",
       "      <td>7183021092</td>\n",
       "      <td>Mexican</td>\n",
       "      <td>09/12/2016</td>\n",
       "      <td>Violations were cited in the following area(s).</td>\n",
       "      <td>08A</td>\n",
       "      <td>Facility not vermin proof. Harborage or condit...</td>\n",
       "      <td>Not Critical</td>\n",
       "      <td>10.0</td>\n",
       "      <td>A</td>\n",
       "      <td>09/12/2016</td>\n",
       "      <td>03/24/2019</td>\n",
       "      <td>Cycle Inspection / Initial Inspection</td>\n",
       "    </tr>\n",
       "    <tr>\n",
       "      <th>2</th>\n",
       "      <td>50039282</td>\n",
       "      <td>STERLING AFFAIR</td>\n",
       "      <td>BROOKLYN</td>\n",
       "      <td>250</td>\n",
       "      <td>JORALEMON ST</td>\n",
       "      <td>11201.0</td>\n",
       "      <td>7187807525</td>\n",
       "      <td>American</td>\n",
       "      <td>09/21/2018</td>\n",
       "      <td>Violations were cited in the following area(s).</td>\n",
       "      <td>09B</td>\n",
       "      <td>Thawing procedures improper.</td>\n",
       "      <td>Not Critical</td>\n",
       "      <td>5.0</td>\n",
       "      <td>A</td>\n",
       "      <td>09/21/2018</td>\n",
       "      <td>03/24/2019</td>\n",
       "      <td>Cycle Inspection / Initial Inspection</td>\n",
       "    </tr>\n",
       "    <tr>\n",
       "      <th>3</th>\n",
       "      <td>41162683</td>\n",
       "      <td>DUNKIN' DONUTS</td>\n",
       "      <td>BROOKLYN</td>\n",
       "      <td>1427</td>\n",
       "      <td>LINDEN BOULEVARD</td>\n",
       "      <td>11212.0</td>\n",
       "      <td>7183856338</td>\n",
       "      <td>Donuts</td>\n",
       "      <td>08/08/2017</td>\n",
       "      <td>Violations were cited in the following area(s).</td>\n",
       "      <td>10B</td>\n",
       "      <td>Plumbing not properly installed or maintained;...</td>\n",
       "      <td>Not Critical</td>\n",
       "      <td>12.0</td>\n",
       "      <td>A</td>\n",
       "      <td>08/08/2017</td>\n",
       "      <td>03/24/2019</td>\n",
       "      <td>Cycle Inspection / Re-inspection</td>\n",
       "    </tr>\n",
       "    <tr>\n",
       "      <th>4</th>\n",
       "      <td>50068366</td>\n",
       "      <td>EL AMBIENTE</td>\n",
       "      <td>BROOKLYN</td>\n",
       "      <td>2896</td>\n",
       "      <td>FULTON ST</td>\n",
       "      <td>11207.0</td>\n",
       "      <td>3476272542</td>\n",
       "      <td>Spanish</td>\n",
       "      <td>06/26/2018</td>\n",
       "      <td>Violations were cited in the following area(s).</td>\n",
       "      <td>02B</td>\n",
       "      <td>Hot food item not held at or above 140Âº F.</td>\n",
       "      <td>Critical</td>\n",
       "      <td>7.0</td>\n",
       "      <td>A</td>\n",
       "      <td>06/26/2018</td>\n",
       "      <td>03/24/2019</td>\n",
       "      <td>Cycle Inspection / Re-inspection</td>\n",
       "    </tr>\n",
       "  </tbody>\n",
       "</table>\n",
       "</div>"
      ],
      "text/plain": [
       "      CAMIS                         DBA      BORO BUILDING            STREET  \\\n",
       "0  41401773              DUNKIN' DONUTS  BROOKLYN      721   FLATBUSH AVENUE   \n",
       "1  41474967  TAQUERIA LA PLACITA PUEBLA  BROOKLYN      830          BROADWAY   \n",
       "2  50039282             STERLING AFFAIR  BROOKLYN      250      JORALEMON ST   \n",
       "3  41162683              DUNKIN' DONUTS  BROOKLYN     1427  LINDEN BOULEVARD   \n",
       "4  50068366                 EL AMBIENTE  BROOKLYN     2896         FULTON ST   \n",
       "\n",
       "   ZIPCODE       PHONE CUISINE DESCRIPTION INSPECTION DATE  \\\n",
       "0  11226.0  7189406864              Donuts      08/19/2016   \n",
       "1  11206.0  7183021092             Mexican      09/12/2016   \n",
       "2  11201.0  7187807525            American      09/21/2018   \n",
       "3  11212.0  7183856338              Donuts      08/08/2017   \n",
       "4  11207.0  3476272542             Spanish      06/26/2018   \n",
       "\n",
       "                                            ACTION VIOLATION CODE  \\\n",
       "0  Violations were cited in the following area(s).            08A   \n",
       "1  Violations were cited in the following area(s).            08A   \n",
       "2  Violations were cited in the following area(s).            09B   \n",
       "3  Violations were cited in the following area(s).            10B   \n",
       "4  Violations were cited in the following area(s).            02B   \n",
       "\n",
       "                               VIOLATION DESCRIPTION CRITICAL FLAG  SCORE  \\\n",
       "0  Facility not vermin proof. Harborage or condit...  Not Critical   11.0   \n",
       "1  Facility not vermin proof. Harborage or condit...  Not Critical   10.0   \n",
       "2                       Thawing procedures improper.  Not Critical    5.0   \n",
       "3  Plumbing not properly installed or maintained;...  Not Critical   12.0   \n",
       "4        Hot food item not held at or above 140Âº F.      Critical    7.0   \n",
       "\n",
       "  GRADE  GRADE DATE RECORD DATE                        INSPECTION TYPE  \n",
       "0     A  08/19/2016  03/24/2019  Cycle Inspection / Initial Inspection  \n",
       "1     A  09/12/2016  03/24/2019  Cycle Inspection / Initial Inspection  \n",
       "2     A  09/21/2018  03/24/2019  Cycle Inspection / Initial Inspection  \n",
       "3     A  08/08/2017  03/24/2019       Cycle Inspection / Re-inspection  \n",
       "4     A  06/26/2018  03/24/2019       Cycle Inspection / Re-inspection  "
      ]
     },
     "execution_count": 39,
     "metadata": {},
     "output_type": "execute_result"
    }
   ],
   "source": [
    "df_rest.head()"
   ]
  },
  {
   "cell_type": "code",
   "execution_count": 90,
   "metadata": {},
   "outputs": [
    {
     "data": {
      "text/plain": [
       "Critical        24468\n",
       "Not Critical    23231\n",
       "Name: CRITICAL FLAG, dtype: int64"
      ]
     },
     "execution_count": 90,
     "metadata": {},
     "output_type": "execute_result"
    }
   ],
   "source": [
    "df_rest['CRITICAL FLAG'].value_counts()"
   ]
  },
  {
   "cell_type": "code",
   "execution_count": 59,
   "metadata": {},
   "outputs": [],
   "source": [
    "#Lists\n",
    "plt.bar();\n"
   ]
  },
  {
   "cell_type": "code",
   "execution_count": null,
   "metadata": {},
   "outputs": [],
   "source": [
    "#Series\n",
    "plt.bar();"
   ]
  },
  {
   "cell_type": "code",
   "execution_count": 57,
   "metadata": {},
   "outputs": [],
   "source": [
    "#Indices (To move bars to where you want them)\n"
   ]
  },
  {
   "cell_type": "code",
   "execution_count": 56,
   "metadata": {},
   "outputs": [],
   "source": [
    "#xticks (To set custom labels)\n"
   ]
  },
  {
   "cell_type": "code",
   "execution_count": null,
   "metadata": {},
   "outputs": [],
   "source": []
  },
  {
   "cell_type": "code",
   "execution_count": 100,
   "metadata": {},
   "outputs": [
    {
     "data": {
      "image/png": "[encoded data removed]",
      "text/plain": [
       "<Figure size 432x288 with 1 Axes>"
      ]
     },
     "metadata": {
      "needs_background": "light"
     },
     "output_type": "display_data"
    }
   ],
   "source": [
    "df_rest['CRITICAL FLAG'].value_counts().plot.bar();"
   ]
  },
  {
   "cell_type": "markdown",
   "metadata": {},
   "source": [
    "## Histogram"
   ]
  },
  {
   "cell_type": "code",
   "execution_count": 62,
   "metadata": {},
   "outputs": [],
   "source": [
    "df_parking = pd.read_csv('viz_csvs/DOF_Parking_Violation_Codes.csv')"
   ]
  },
  {
   "cell_type": "code",
   "execution_count": 63,
   "metadata": {},
   "outputs": [
    {
     "data": {
      "text/html": [
       "<div>\n",
       "<style scoped>\n",
       "    .dataframe tbody tr th:only-of-type {\n",
       "        vertical-align: middle;\n",
       "    }\n",
       "\n",
       "    .dataframe tbody tr th {\n",
       "        vertical-align: top;\n",
       "    }\n",
       "\n",
       "    .dataframe thead th {\n",
       "        text-align: right;\n",
       "    }\n",
       "</style>\n",
       "<table border=\"1\" class=\"dataframe\">\n",
       "  <thead>\n",
       "    <tr style=\"text-align: right;\">\n",
       "      <th></th>\n",
       "      <th>CODE</th>\n",
       "      <th>DEFINITION</th>\n",
       "      <th>Manhattan  96th St. &amp; below</th>\n",
       "      <th>All Other Areas</th>\n",
       "    </tr>\n",
       "  </thead>\n",
       "  <tbody>\n",
       "    <tr>\n",
       "      <th>0</th>\n",
       "      <td>30</td>\n",
       "      <td>NO STOP/STANDNG EXCEPT PAS P/U</td>\n",
       "      <td>515</td>\n",
       "      <td>515</td>\n",
       "    </tr>\n",
       "    <tr>\n",
       "      <th>1</th>\n",
       "      <td>60</td>\n",
       "      <td>ANGLE PARKING</td>\n",
       "      <td>65</td>\n",
       "      <td>45</td>\n",
       "    </tr>\n",
       "    <tr>\n",
       "      <th>2</th>\n",
       "      <td>13</td>\n",
       "      <td>NO STANDING-TAXI STAND</td>\n",
       "      <td>115</td>\n",
       "      <td>115</td>\n",
       "    </tr>\n",
       "    <tr>\n",
       "      <th>3</th>\n",
       "      <td>73</td>\n",
       "      <td>REG STICKER-MUTILATED/C'FEIT</td>\n",
       "      <td>65</td>\n",
       "      <td>65</td>\n",
       "    </tr>\n",
       "    <tr>\n",
       "      <th>4</th>\n",
       "      <td>38</td>\n",
       "      <td>FAIL TO DSPLY MUNI METER RECPT</td>\n",
       "      <td>65</td>\n",
       "      <td>35</td>\n",
       "    </tr>\n",
       "  </tbody>\n",
       "</table>\n",
       "</div>"
      ],
      "text/plain": [
       "   CODE                      DEFINITION  Manhattan  96th St. & below  \\\n",
       "0    30  NO STOP/STANDNG EXCEPT PAS P/U                          515   \n",
       "1    60                   ANGLE PARKING                           65   \n",
       "2    13          NO STANDING-TAXI STAND                          115   \n",
       "3    73    REG STICKER-MUTILATED/C'FEIT                           65   \n",
       "4    38  FAIL TO DSPLY MUNI METER RECPT                           65   \n",
       "\n",
       "   All Other Areas  \n",
       "0              515  \n",
       "1               45  \n",
       "2              115  \n",
       "3               65  \n",
       "4               35  "
      ]
     },
     "execution_count": 63,
     "metadata": {},
     "output_type": "execute_result"
    }
   ],
   "source": [
    "df_parking.head()"
   ]
  },
  {
   "cell_type": "code",
   "execution_count": 81,
   "metadata": {},
   "outputs": [],
   "source": [
    "df_parking['All Other Areas'].hist();"
   ]
  },
  {
   "cell_type": "code",
   "execution_count": 82,
   "metadata": {},
   "outputs": [],
   "source": [
    "plt.hist(df_parking['All Other Areas']);"
   ]
  },
  {
   "cell_type": "markdown",
   "metadata": {},
   "source": [
    "## Mapping"
   ]
  },
  {
   "cell_type": "code",
   "execution_count": 67,
   "metadata": {},
   "outputs": [],
   "source": [
    "crashes_2019=pd.read_csv('viz_csvs/Vehicle_Collisions_2019.csv')"
   ]
  },
  {
   "cell_type": "code",
   "execution_count": 110,
   "metadata": {},
   "outputs": [
    {
     "data": {
      "text/html": [
       "<div>\n",
       "<style scoped>\n",
       "    .dataframe tbody tr th:only-of-type {\n",
       "        vertical-align: middle;\n",
       "    }\n",
       "\n",
       "    .dataframe tbody tr th {\n",
       "        vertical-align: top;\n",
       "    }\n",
       "\n",
       "    .dataframe thead th {\n",
       "        text-align: right;\n",
       "    }\n",
       "</style>\n",
       "<table border=\"1\" class=\"dataframe\">\n",
       "  <thead>\n",
       "    <tr style=\"text-align: right;\">\n",
       "      <th></th>\n",
       "      <th>DATE</th>\n",
       "      <th>TIME</th>\n",
       "      <th>BOROUGH</th>\n",
       "      <th>ZIP CODE</th>\n",
       "      <th>LATITUDE</th>\n",
       "      <th>LONGITUDE</th>\n",
       "      <th>LOCATION</th>\n",
       "      <th>ON STREET NAME</th>\n",
       "      <th>CROSS STREET NAME</th>\n",
       "      <th>OFF STREET NAME</th>\n",
       "      <th>NUMBER OF PERSONS INJURED</th>\n",
       "      <th>NUMBER OF PERSONS KILLED</th>\n",
       "      <th>NUMBER OF PEDESTRIANS INJURED</th>\n",
       "      <th>NUMBER OF PEDESTRIANS KILLED</th>\n",
       "      <th>NUMBER OF CYCLIST INJURED</th>\n",
       "      <th>NUMBER OF CYCLIST KILLED</th>\n",
       "      <th>NUMBER OF MOTORIST INJURED</th>\n",
       "      <th>NUMBER OF MOTORIST KILLED</th>\n",
       "      <th>CONTRIBUTING FACTOR VEHICLE 1</th>\n",
       "      <th>CONTRIBUTING FACTOR VEHICLE 2</th>\n",
       "      <th>CONTRIBUTING FACTOR VEHICLE 3</th>\n",
       "      <th>CONTRIBUTING FACTOR VEHICLE 4</th>\n",
       "      <th>CONTRIBUTING FACTOR VEHICLE 5</th>\n",
       "      <th>UNIQUE KEY</th>\n",
       "      <th>VEHICLE TYPE CODE 1</th>\n",
       "      <th>VEHICLE TYPE CODE 2</th>\n",
       "      <th>VEHICLE TYPE CODE 3</th>\n",
       "      <th>VEHICLE TYPE CODE 4</th>\n",
       "      <th>VEHICLE TYPE CODE 5</th>\n",
       "      <th>Zip Codes</th>\n",
       "      <th>Borough Boundaries</th>\n",
       "      <th>City Council Districts</th>\n",
       "      <th>Community Districts</th>\n",
       "      <th>Police Precincts</th>\n",
       "    </tr>\n",
       "  </thead>\n",
       "  <tbody>\n",
       "    <tr>\n",
       "      <th>0</th>\n",
       "      <td>03/23/2019</td>\n",
       "      <td>4:19</td>\n",
       "      <td>MANHATTAN</td>\n",
       "      <td>10065.0</td>\n",
       "      <td>40.76297</td>\n",
       "      <td>-73.962160</td>\n",
       "      <td>(40.76297, -73.96216)</td>\n",
       "      <td>NaN</td>\n",
       "      <td>NaN</td>\n",
       "      <td>301       EAST 63 STREET</td>\n",
       "      <td>0.0</td>\n",
       "      <td>0.0</td>\n",
       "      <td>0</td>\n",
       "      <td>0</td>\n",
       "      <td>0</td>\n",
       "      <td>0</td>\n",
       "      <td>0</td>\n",
       "      <td>0</td>\n",
       "      <td>Unspecified</td>\n",
       "      <td>Unspecified</td>\n",
       "      <td>NaN</td>\n",
       "      <td>NaN</td>\n",
       "      <td>NaN</td>\n",
       "      <td>4102251</td>\n",
       "      <td>Station Wagon/Sport Utility Vehicle</td>\n",
       "      <td>Taxi</td>\n",
       "      <td>NaN</td>\n",
       "      <td>NaN</td>\n",
       "      <td>NaN</td>\n",
       "      <td>10090.0</td>\n",
       "      <td>4.0</td>\n",
       "      <td>1.0</td>\n",
       "      <td>23.0</td>\n",
       "      <td>11.0</td>\n",
       "    </tr>\n",
       "    <tr>\n",
       "      <th>1</th>\n",
       "      <td>03/23/2019</td>\n",
       "      <td>20:00</td>\n",
       "      <td>NaN</td>\n",
       "      <td>NaN</td>\n",
       "      <td>40.77958</td>\n",
       "      <td>-73.823320</td>\n",
       "      <td>(40.77958, -73.82332)</td>\n",
       "      <td>22 AVENUE</td>\n",
       "      <td>NaN</td>\n",
       "      <td>NaN</td>\n",
       "      <td>0.0</td>\n",
       "      <td>0.0</td>\n",
       "      <td>0</td>\n",
       "      <td>0</td>\n",
       "      <td>0</td>\n",
       "      <td>0</td>\n",
       "      <td>0</td>\n",
       "      <td>0</td>\n",
       "      <td>Passing or Lane Usage Improper</td>\n",
       "      <td>Unspecified</td>\n",
       "      <td>NaN</td>\n",
       "      <td>NaN</td>\n",
       "      <td>NaN</td>\n",
       "      <td>4102000</td>\n",
       "      <td>Station Wagon/Sport Utility Vehicle</td>\n",
       "      <td>NaN</td>\n",
       "      <td>NaN</td>\n",
       "      <td>NaN</td>\n",
       "      <td>NaN</td>\n",
       "      <td>14192.0</td>\n",
       "      <td>3.0</td>\n",
       "      <td>20.0</td>\n",
       "      <td>22.0</td>\n",
       "      <td>67.0</td>\n",
       "    </tr>\n",
       "    <tr>\n",
       "      <th>2</th>\n",
       "      <td>03/23/2019</td>\n",
       "      <td>6:15</td>\n",
       "      <td>MANHATTAN</td>\n",
       "      <td>10002.0</td>\n",
       "      <td>40.71997</td>\n",
       "      <td>-73.992905</td>\n",
       "      <td>(40.71997, -73.992905)</td>\n",
       "      <td>DELANCEY STREET</td>\n",
       "      <td>CHRYSTIE STREET</td>\n",
       "      <td>NaN</td>\n",
       "      <td>0.0</td>\n",
       "      <td>0.0</td>\n",
       "      <td>0</td>\n",
       "      <td>0</td>\n",
       "      <td>0</td>\n",
       "      <td>0</td>\n",
       "      <td>0</td>\n",
       "      <td>0</td>\n",
       "      <td>Driver Inattention/Distraction</td>\n",
       "      <td>Unspecified</td>\n",
       "      <td>NaN</td>\n",
       "      <td>NaN</td>\n",
       "      <td>NaN</td>\n",
       "      <td>4101841</td>\n",
       "      <td>Sedan</td>\n",
       "      <td>Pick-up Truck</td>\n",
       "      <td>NaN</td>\n",
       "      <td>NaN</td>\n",
       "      <td>NaN</td>\n",
       "      <td>11723.0</td>\n",
       "      <td>4.0</td>\n",
       "      <td>32.0</td>\n",
       "      <td>70.0</td>\n",
       "      <td>2.0</td>\n",
       "    </tr>\n",
       "    <tr>\n",
       "      <th>3</th>\n",
       "      <td>03/23/2019</td>\n",
       "      <td>20:30</td>\n",
       "      <td>NaN</td>\n",
       "      <td>NaN</td>\n",
       "      <td>40.69283</td>\n",
       "      <td>-73.854680</td>\n",
       "      <td>(40.69283, -73.85468)</td>\n",
       "      <td>90 STREET</td>\n",
       "      <td>NaN</td>\n",
       "      <td>NaN</td>\n",
       "      <td>0.0</td>\n",
       "      <td>0.0</td>\n",
       "      <td>0</td>\n",
       "      <td>0</td>\n",
       "      <td>0</td>\n",
       "      <td>0</td>\n",
       "      <td>0</td>\n",
       "      <td>0</td>\n",
       "      <td>Passenger Distraction</td>\n",
       "      <td>Unspecified</td>\n",
       "      <td>NaN</td>\n",
       "      <td>NaN</td>\n",
       "      <td>NaN</td>\n",
       "      <td>4102370</td>\n",
       "      <td>Sedan</td>\n",
       "      <td>Station Wagon/Sport Utility Vehicle</td>\n",
       "      <td>NaN</td>\n",
       "      <td>NaN</td>\n",
       "      <td>NaN</td>\n",
       "      <td>24017.0</td>\n",
       "      <td>3.0</td>\n",
       "      <td>41.0</td>\n",
       "      <td>46.0</td>\n",
       "      <td>60.0</td>\n",
       "    </tr>\n",
       "    <tr>\n",
       "      <th>4</th>\n",
       "      <td>03/23/2019</td>\n",
       "      <td>17:59</td>\n",
       "      <td>MANHATTAN</td>\n",
       "      <td>10006.0</td>\n",
       "      <td>40.70983</td>\n",
       "      <td>-74.014680</td>\n",
       "      <td>(40.70983, -74.01468)</td>\n",
       "      <td>WEST STREET</td>\n",
       "      <td>ALBANY STREET</td>\n",
       "      <td>NaN</td>\n",
       "      <td>0.0</td>\n",
       "      <td>0.0</td>\n",
       "      <td>0</td>\n",
       "      <td>0</td>\n",
       "      <td>0</td>\n",
       "      <td>0</td>\n",
       "      <td>0</td>\n",
       "      <td>0</td>\n",
       "      <td>Driver Inexperience</td>\n",
       "      <td>Unsafe Lane Changing</td>\n",
       "      <td>NaN</td>\n",
       "      <td>NaN</td>\n",
       "      <td>NaN</td>\n",
       "      <td>4102261</td>\n",
       "      <td>Station Wagon/Sport Utility Vehicle</td>\n",
       "      <td>Sedan</td>\n",
       "      <td>NaN</td>\n",
       "      <td>NaN</td>\n",
       "      <td>NaN</td>\n",
       "      <td>11727.0</td>\n",
       "      <td>4.0</td>\n",
       "      <td>32.0</td>\n",
       "      <td>56.0</td>\n",
       "      <td>1.0</td>\n",
       "    </tr>\n",
       "  </tbody>\n",
       "</table>\n",
       "</div>"
      ],
      "text/plain": [
       "         DATE   TIME    BOROUGH  ZIP CODE  LATITUDE  LONGITUDE  \\\n",
       "0  03/23/2019   4:19  MANHATTAN   10065.0  40.76297 -73.962160   \n",
       "1  03/23/2019  20:00        NaN       NaN  40.77958 -73.823320   \n",
       "2  03/23/2019   6:15  MANHATTAN   10002.0  40.71997 -73.992905   \n",
       "3  03/23/2019  20:30        NaN       NaN  40.69283 -73.854680   \n",
       "4  03/23/2019  17:59  MANHATTAN   10006.0  40.70983 -74.014680   \n",
       "\n",
       "                 LOCATION                    ON STREET NAME CROSS STREET NAME  \\\n",
       "0   (40.76297, -73.96216)                               NaN               NaN   \n",
       "1   (40.77958, -73.82332)  22 AVENUE                                      NaN   \n",
       "2  (40.71997, -73.992905)  DELANCEY STREET                    CHRYSTIE STREET   \n",
       "3   (40.69283, -73.85468)  90 STREET                                      NaN   \n",
       "4   (40.70983, -74.01468)  WEST STREET                          ALBANY STREET   \n",
       "\n",
       "                            OFF STREET NAME  NUMBER OF PERSONS INJURED  \\\n",
       "0  301       EAST 63 STREET                                        0.0   \n",
       "1                                       NaN                        0.0   \n",
       "2                                       NaN                        0.0   \n",
       "3                                       NaN                        0.0   \n",
       "4                                       NaN                        0.0   \n",
       "\n",
       "   NUMBER OF PERSONS KILLED  NUMBER OF PEDESTRIANS INJURED  \\\n",
       "0                       0.0                              0   \n",
       "1                       0.0                              0   \n",
       "2                       0.0                              0   \n",
       "3                       0.0                              0   \n",
       "4                       0.0                              0   \n",
       "\n",
       "   NUMBER OF PEDESTRIANS KILLED  NUMBER OF CYCLIST INJURED  \\\n",
       "0                             0                          0   \n",
       "1                             0                          0   \n",
       "2                             0                          0   \n",
       "3                             0                          0   \n",
       "4                             0                          0   \n",
       "\n",
       "   NUMBER OF CYCLIST KILLED  NUMBER OF MOTORIST INJURED  \\\n",
       "0                         0                           0   \n",
       "1                         0                           0   \n",
       "2                         0                           0   \n",
       "3                         0                           0   \n",
       "4                         0                           0   \n",
       "\n",
       "   NUMBER OF MOTORIST KILLED   CONTRIBUTING FACTOR VEHICLE 1  \\\n",
       "0                          0                     Unspecified   \n",
       "1                          0  Passing or Lane Usage Improper   \n",
       "2                          0  Driver Inattention/Distraction   \n",
       "3                          0           Passenger Distraction   \n",
       "4                          0             Driver Inexperience   \n",
       "\n",
       "  CONTRIBUTING FACTOR VEHICLE 2 CONTRIBUTING FACTOR VEHICLE 3  \\\n",
       "0                   Unspecified                           NaN   \n",
       "1                   Unspecified                           NaN   \n",
       "2                   Unspecified                           NaN   \n",
       "3                   Unspecified                           NaN   \n",
       "4          Unsafe Lane Changing                           NaN   \n",
       "\n",
       "  CONTRIBUTING FACTOR VEHICLE 4 CONTRIBUTING FACTOR VEHICLE 5  UNIQUE KEY  \\\n",
       "0                           NaN                           NaN     4102251   \n",
       "1                           NaN                           NaN     4102000   \n",
       "2                           NaN                           NaN     4101841   \n",
       "3                           NaN                           NaN     4102370   \n",
       "4                           NaN                           NaN     4102261   \n",
       "\n",
       "                   VEHICLE TYPE CODE 1                  VEHICLE TYPE CODE 2  \\\n",
       "0  Station Wagon/Sport Utility Vehicle                                 Taxi   \n",
       "1  Station Wagon/Sport Utility Vehicle                                  NaN   \n",
       "2                                Sedan                        Pick-up Truck   \n",
       "3                                Sedan  Station Wagon/Sport Utility Vehicle   \n",
       "4  Station Wagon/Sport Utility Vehicle                                Sedan   \n",
       "\n",
       "  VEHICLE TYPE CODE 3 VEHICLE TYPE CODE 4 VEHICLE TYPE CODE 5  Zip Codes  \\\n",
       "0                 NaN                 NaN                 NaN    10090.0   \n",
       "1                 NaN                 NaN                 NaN    14192.0   \n",
       "2                 NaN                 NaN                 NaN    11723.0   \n",
       "3                 NaN                 NaN                 NaN    24017.0   \n",
       "4                 NaN                 NaN                 NaN    11727.0   \n",
       "\n",
       "   Borough Boundaries  City Council Districts  Community Districts  \\\n",
       "0                 4.0                     1.0                 23.0   \n",
       "1                 3.0                    20.0                 22.0   \n",
       "2                 4.0                    32.0                 70.0   \n",
       "3                 3.0                    41.0                 46.0   \n",
       "4                 4.0                    32.0                 56.0   \n",
       "\n",
       "   Police Precincts  \n",
       "0              11.0  \n",
       "1              67.0  \n",
       "2               2.0  \n",
       "3              60.0  \n",
       "4               1.0  "
      ]
     },
     "execution_count": 110,
     "metadata": {},
     "output_type": "execute_result"
    }
   ],
   "source": [
    "crashes_2019.head()"
   ]
  },
  {
   "cell_type": "code",
   "execution_count": 106,
   "metadata": {},
   "outputs": [
    {
     "data": {
      "text/plain": [
       "<folium.vector_layers.Circle at 0x19ecfbf9c50>"
      ]
     },
     "execution_count": 106,
     "metadata": {},
     "output_type": "execute_result"
    }
   ],
   "source": [
    "#pip install folium\n",
    "import folium\n",
    "\n",
    "m = folium.Map(location=[40.738, -73.98],\n",
    "                        zoom_start=12,\n",
    "                        tiles=\"CartoDB dark_matter\")\n",
    "\n",
    "folium.Circle(\n",
    "      location=[40.76297, -73.962160],\n",
    "      radius=10,\n",
    "      color='crimson',\n",
    "      fill=True,\n",
    "      fill_color='crimson'\n",
    "   ).add_to(m)\n",
    "\n",
    "\n",
    "\n",
    "m\n"
   ]
  },
  {
   "cell_type": "code",
   "execution_count": 97,
   "metadata": {},
   "outputs": [],
   "source": [
    "m = folium.Map(location=[40.738, -73.98],\n",
    "                        zoom_start=11,\n",
    "                        tiles=\"CartoDB dark_matter\")\n",
    "\n",
    "for i in range(0,100):\n",
    "    folium.Circle(\n",
    "      location=[crashes_2019.iloc[i]['LATITUDE'], crashes_2019.iloc[i]['LONGITUDE']],\n",
    "      #popup=data.iloc[i]['name'],\n",
    "      radius=10,\n",
    "      color='crimson',\n",
    "      fill=True,\n",
    "      fill_color='crimson'\n",
    "   ).add_to(m)"
   ]
  },
  {
   "cell_type": "code",
   "execution_count": 72,
   "metadata": {},
   "outputs": [],
   "source": [
    "injured=crashes_2019[crashes_2019['NUMBER OF PERSONS INJURED']>0]"
   ]
  },
  {
   "cell_type": "code",
   "execution_count": 108,
   "metadata": {},
   "outputs": [],
   "source": [
    "m = folium.Map(location=[40.738, -73.98],\n",
    "                        zoom_start=13,\n",
    "                        tiles=\"CartoDB dark_matter\")\n",
    "\n",
    "mat = injured[['LATITUDE', 'LONGITUDE']].as_matrix()\n",
    "\n",
    "# plot heatmap\n",
    "m.add_child(plugins.HeatMap(mat, radius=10))\n"
   ]
  },
  {
   "cell_type": "markdown",
   "metadata": {},
   "source": [
    "## Exercises/Assignments"
   ]
  },
  {
   "cell_type": "markdown",
   "metadata": {},
   "source": [
    "- Choose one or more of these to complete! Does not have to be in order"
   ]
  },
  {
   "cell_type": "markdown",
   "metadata": {},
   "source": [
    "#### Easy"
   ]
  },
  {
   "cell_type": "markdown",
   "metadata": {},
   "source": [
    "Make a line plot on New York City water consumption that is different from the one we made"
   ]
  },
  {
   "cell_type": "code",
   "execution_count": null,
   "metadata": {},
   "outputs": [],
   "source": []
  },
  {
   "cell_type": "markdown",
   "metadata": {},
   "source": [
    "Make a bar chart of the number of different resturaunt inspection types"
   ]
  },
  {
   "cell_type": "code",
   "execution_count": null,
   "metadata": {},
   "outputs": [],
   "source": []
  },
  {
   "cell_type": "markdown",
   "metadata": {},
   "source": [
    "Make a histogram of resturaunt scores (Lower scores are better than higher scores)"
   ]
  },
  {
   "cell_type": "code",
   "execution_count": null,
   "metadata": {},
   "outputs": [],
   "source": []
  },
  {
   "cell_type": "markdown",
   "metadata": {},
   "source": [
    "Make a map of the first 100 vehicle collisions using a different color and marker size"
   ]
  },
  {
   "cell_type": "code",
   "execution_count": null,
   "metadata": {},
   "outputs": [],
   "source": []
  },
  {
   "cell_type": "markdown",
   "metadata": {},
   "source": [
    "#### Medium"
   ]
  },
  {
   "cell_type": "markdown",
   "metadata": {},
   "source": [
    "Make a bar chart of the top 10 restaraunt Cuisine Descriptions"
   ]
  },
  {
   "cell_type": "code",
   "execution_count": null,
   "metadata": {},
   "outputs": [],
   "source": []
  },
  {
   "cell_type": "markdown",
   "metadata": {},
   "source": [
    "Make a bar chart of the top 10 restaraunt Violation Descriptions"
   ]
  },
  {
   "cell_type": "code",
   "execution_count": null,
   "metadata": {},
   "outputs": [],
   "source": []
  },
  {
   "cell_type": "markdown",
   "metadata": {},
   "source": [
    "Make a map of 100 vehicle collisions using different colors for day and night"
   ]
  },
  {
   "cell_type": "code",
   "execution_count": null,
   "metadata": {},
   "outputs": [],
   "source": []
  },
  {
   "cell_type": "markdown",
   "metadata": {},
   "source": [
    "#### Hard"
   ]
  },
  {
   "cell_type": "markdown",
   "metadata": {},
   "source": [
    "Make a map with 2 different markers, one for Contributing Factor Vehicle 1 Aggressive Driving/Road Rage and one for  Contributing Factor Vehicle 1 Glare"
   ]
  },
  {
   "cell_type": "code",
   "execution_count": null,
   "metadata": {},
   "outputs": [],
   "source": []
  },
  {
   "cell_type": "markdown",
   "metadata": {},
   "source": [
    "Make a stacked bar chart showing the critical/non critical flags for the top 3 resturaunt chains [example](https://matplotlib.org/gallery/lines_bars_and_markers/bar_stacked.html)"
   ]
  },
  {
   "cell_type": "code",
   "execution_count": null,
   "metadata": {},
   "outputs": [],
   "source": []
  },
  {
   "cell_type": "markdown",
   "metadata": {},
   "source": [
    "Create your own custom map or chart!"
   ]
  },
  {
   "cell_type": "code",
   "execution_count": null,
   "metadata": {},
   "outputs": [],
   "source": []
  },
  {
   "cell_type": "markdown",
   "metadata": {},
   "source": [
    "## Resources"
   ]
  },
  {
   "cell_type": "markdown",
   "metadata": {},
   "source": [
    "[Link to Matplotlib Examples](https://matplotlib.org/gallery/index.html)"
   ]
  },
  {
   "cell_type": "code",
   "execution_count": null,
   "metadata": {},
   "outputs": [],
   "source": []
  }
 ],
 "metadata": {
  "kernelspec": {
   "display_name": "Python 3",
   "language": "python",
   "name": "python3"
  },
  "language_info": {
   "codemirror_mode": {
    "name": "ipython",
    "version": 3
   },
   "file_extension": ".py",
   "mimetype": "text/x-python",
   "name": "python",
   "nbconvert_exporter": "python",
   "pygments_lexer": "ipython3",
   "version": "3.7.1"
  }
 },
 "nbformat": 4,
 "nbformat_minor": 2
}
